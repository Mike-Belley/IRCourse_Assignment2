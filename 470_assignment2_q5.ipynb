{
  "nbformat": 4,
  "nbformat_minor": 0,
  "metadata": {
    "colab": {
      "provenance": [],
      "collapsed_sections": []
    },
    "kernelspec": {
      "name": "python3",
      "display_name": "Python 3"
    },
    "language_info": {
      "name": "python"
    }
  },
  "cells": [
    {
      "cell_type": "markdown",
      "source": [
        "# Kendall Tau"
      ],
      "metadata": {
        "id": "5hs55mn8vCKW"
      }
    },
    {
      "cell_type": "code",
      "execution_count": null,
      "metadata": {
        "colab": {
          "base_uri": "https://localhost:8080/"
        },
        "id": "UtfV6CGtu7Qo",
        "outputId": "5c732ff9-c27e-45bc-ab55-1693f3c5d7ff"
      },
      "outputs": [
        {
          "output_type": "stream",
          "name": "stdout",
          "text": [
            "tau: 0.8909090909090909\n",
            "P-Value: 1.3728555395222063e-05\n"
          ]
        }
      ],
      "source": [
        "import scipy.stats as stats\n",
        "\n",
        "P_10 = [.3566,.1818,.0584,.0519,.5479,.1883,.2974,.0039,.2403,.2390,.1390]\n",
        "MRR = [.6103,.4339,.1003,.0854,.864,.2811,.4829,.0237,.4196,.3857,.2432]\n",
        "\n",
        "tau, p_value = stats.kendalltau(P_10, MRR)\n",
        "\n",
        "print(\"tau: \" + str(tau))\n",
        "print(\"P-Value: \" + str(p_value))"
      ]
    },
    {
      "cell_type": "markdown",
      "source": [
        "**Results**\n",
        "\n",
        "File|P @ 10|MRR\n",
        "----------|------------|---------\n",
        "Prim_approach0|0.3566|0.6103\n",
        "Prim_combined|0.1818|0.4339\n",
        "Prim_dprl_A|0.0584|0.1003\n",
        "Prim_dprl_P|0.0519|0.0854\n",
        "Prim_linked|0.5479|0.864\n",
        "Prim_math_auto|0.1883|0.2811\n",
        "Prim_math_norerank|0.2974|0.4829\n",
        "Prim_mirmu_bert|0.0039|0.0237\n",
        "Prim_mirmu_ensemble|0.2403|0.4196\n",
        "Prim_psu_A|0.2390|0.3857\n",
        "Prim_psu_P|0.1390|0.2432\n",
        "\n",
        "tau: 0.8909090909090909\n",
        "\n",
        "P-Value: 1.3728555395222063e-05\n"
      ],
      "metadata": {
        "id": "Uqa9QhsgvHWX"
      }
    },
    {
      "cell_type": "markdown",
      "source": [
        "**Discussion**\n",
        "\n",
        "Precision and MRR are very similar, but slightly different. Where precision measures only at the cut, and doesn't care where the results were in the ranking, MRR takes into account where the relevant documents showed up in the ranking. For MRR, a number closer to 1 indicates that your relevant documents were at the top of the ranking, where if they were closer to 0, they would not be there at all, or at the bottom.\n",
        "\n",
        "With how similar the statistics are, there should be a correlation between the two. This is proven with a very strong tau score of 0.89, which indicates a strong, positive correlation, and a p-value of almost 0, meaning the chances that the results are inaccurate are very low. "
      ],
      "metadata": {
        "id": "_sJTp7Za3iBa"
      }
    }
  ]
}